{
 "cells": [
  {
   "cell_type": "code",
   "execution_count": 2,
   "id": "adffcbef",
   "metadata": {},
   "outputs": [],
   "source": [
    "# import all necessary external dependencies\n",
    "import os\n",
    "import sys\n",
    "ROOT_DIR = os.path.dirname(os.path.dirname(os.path.abspath('')))\n",
    "sys.path.append(ROOT_DIR)\n",
    "from env.lib import *\n",
    "import jaxopt"
   ]
  },
  {
   "cell_type": "markdown",
   "id": "d1512aff",
   "metadata": {},
   "source": [
    "Define partial traces operator."
   ]
  },
  {
   "cell_type": "code",
   "execution_count": 3,
   "id": "a8c56726",
   "metadata": {},
   "outputs": [],
   "source": [
    "def tr_1(A: jnp.ndarray) -> jnp.ndarray:\n",
    "    \"\"\"\n",
    "    computes first partial trace of an operator A\n",
    "    \"\"\"\n",
    "    n = jnp.sqrt(jnp.shape(A)[0]).astype(int) # reshape A into a rank 4 tensor\n",
    "    return jnp.einsum('ijkl->jl', A.reshape(n,n,n,n)) / n\n",
    "\n",
    "def tr_2(A: jnp.ndarray) -> jnp.ndarray:\n",
    "    \"\"\"\n",
    "    computes second partial trace of an operator A\n",
    "    \"\"\"\n",
    "    n = jnp.sqrt(jnp.shape(A)[0]).astype(int) # reshape A into a rank 4 tensor\n",
    "    return jnp.einsum('ijkl->ik', A.reshape(n,n,n,n)) / n"
   ]
  },
  {
   "cell_type": "markdown",
   "id": "4059121b",
   "metadata": {},
   "source": [
    "Define gradients of dual functional as\n",
    "\n",
    "$\n",
    "\\nabla_U D_\\epsilon(U,V) = \\varepsilon\\rho_1 - \\mathrm{Tr}_2[(U\\oplus V - C)_+]\n",
    "$\n",
    "\n",
    "and\n",
    "\n",
    "$\n",
    "\\nabla_V D_\\epsilon(U,V) = \\varepsilon\\rho_2 - \\mathrm{Tr}_1[(U\\oplus V - C)_+]\n",
    "$"
   ]
  },
  {
   "cell_type": "code",
   "execution_count": 4,
   "id": "ec518c60",
   "metadata": {},
   "outputs": [],
   "source": [
    "def grad_U(Gamma: jnp.ndarray, rho_1: jnp.ndarray, epsilon: float) -> jnp.ndarray:\n",
    "    \"\"\"\n",
    "    computes gradient of the dual functional with respect to U\n",
    "    \"\"\"\n",
    "    return epsilon * rho_1 - tr_2(Gamma)\n",
    "\n",
    "def grad_V(Gamma: jnp.ndarray, rho_2: jnp.ndarray, epsilon: float) -> jnp.ndarray:\n",
    "    \"\"\"\n",
    "    computes gradient of the dual functional with respect to V\n",
    "    \"\"\"\n",
    "    return epsilon * rho_2 - tr_1(Gamma)"
   ]
  },
  {
   "cell_type": "markdown",
   "id": "836945fb",
   "metadata": {},
   "source": [
    "Perform change of basis of operators defined on $\\mathcal{H}$, $\\mathcal{K}$, or $\\mathcal{H} \\otimes \\mathcal{K}$ with respect to the change of basis in the space of $\\mathcal{H} \\otimes \\mathcal{K}$."
   ]
  },
  {
   "cell_type": "code",
   "execution_count": 5,
   "id": "0b03fc1b",
   "metadata": {},
   "outputs": [],
   "source": [
    "\n",
    "def change_of_basis_matrix(P_old: jnp.ndarray, P_new: jnp.ndarray) -> jnp.ndarray:\n",
    "\t\"\"\"\n",
    "\tComputes a change of basis matrix to switch from P_old to P_new\n",
    "\t\"\"\"\n",
    "\treturn jnp.linalg.solve(P_old, P_new)\n",
    "\n",
    "def represent(A: jnp.ndarray, change_of_basis_matrix: jnp.ndarray) -> jnp.ndarray:\n",
    "\t\"\"\"\n",
    "\tComputes the new representation of an operator A under change_of_basis matrix\n",
    "\t\"\"\"\n",
    "\treturn jnp.linalg.solve(change_of_basis_matrix, A @ change_of_basis_matrix)\n",
    "\n",
    "\n",
    "def represent_H(A: jnp.ndarray, change_of_basis_matrix: jnp.ndarray) -> jnp.ndarray:\n",
    "    n = jnp.shape(A)[0]\n",
    "    lifted_A = jnp.kron(A, jnp.eye(n))\n",
    "    repr_lifted_A = jnp.linalg.solve(change_of_basis_matrix, lifted_A @ change_of_basis_matrix)\n",
    "    return tr_2(repr_lifted_A)\n",
    "\n",
    "def represent_K(A: jnp.ndarray, change_of_basis_matrix: jnp.ndarray) -> jnp.ndarray:\n",
    "    n = jnp.shape(A)[0]\n",
    "    lifted_A = jnp.kron(jnp.eye(n), A)\n",
    "    repr_lifted_A = jnp.linalg.solve(change_of_basis_matrix, lifted_A @ change_of_basis_matrix)\n",
    "    return tr_1(repr_lifted_A)"
   ]
  },
  {
   "cell_type": "markdown",
   "id": "5cc05658",
   "metadata": {},
   "source": [
    "Auxiliary Diagonalization tools."
   ]
  },
  {
   "cell_type": "code",
   "execution_count": 6,
   "id": "4be40208",
   "metadata": {},
   "outputs": [],
   "source": [
    "def clip_diagonalize(A: jnp.ndarray) -> jnp.ndarray:\n",
    "    \"\"\"\n",
    "    Diagonalize and clip the matrix A to have nonnegative eigenvalues\n",
    "    \"\"\"\n",
    "    return jnp.diag(jnp.clip(jnp.linalg.eigvalsh(A), a_min=0, a_max=None))\n",
    "\n",
    "def diagonalize(A: jnp.ndarray):\n",
    "    \"\"\"\n",
    "    Diagonalize the matrix A such that A=PDP^{-1}\n",
    "    \"\"\"\n",
    "    D, P = jnp.linalg.eigh(A)\n",
    "    return jnp.diag(D), P"
   ]
  },
  {
   "cell_type": "markdown",
   "id": "875efd51",
   "metadata": {},
   "source": [
    "### Hilbert-Schmidt Norm\n",
    "Let $\\mathrm{H}(X)$ be a vector space of Hermitian operators on a finite dimensional Hilbert space $X$. Then, $\\vert\\vert \\cdot \\vert\\vert_{HS}: \\mathrm{H}(X) \\to \\mathbb{R}_{\\geq 0}$ is defined as\n",
    "\n",
    "$\n",
    "\\vert\\vert A \\vert\\vert_{HS} = \\sqrt{\\mathrm{Tr}\\left[A^*A\\right]} \\geq \\sqrt{\\sum_{i=1}^{\\dim X} \\lambda_i^2} = \\sqrt{\\mathrm{Tr}\\left[\\sum_{i=1}^{\\dim X}\\lambda_i^2 \\ket{\\xi_i}\\bra{\\xi_i}\\right]}\n",
    "$\n",
    "\n",
    "where $\\lambda_i$'s are eigenvalues of the Hermitian operator $A \\in \\mathrm{H}(X)$."
   ]
  },
  {
   "cell_type": "code",
   "execution_count": 7,
   "id": "91bd2fa5",
   "metadata": {},
   "outputs": [],
   "source": [
    "def hilbert_schmidt(A: jnp.ndarray) -> float:\n",
    "    \"\"\"\n",
    "    Compute Hilbert-Schmidt norm of a matrix A\n",
    "    \"\"\"\n",
    "    return jnp.sqrt(jnp.trace(jnp.absolute(A.conjugate().T @ A)))"
   ]
  },
  {
   "cell_type": "markdown",
   "id": "029fcfc3",
   "metadata": {},
   "source": [
    "Using this setup, the `compute_error` function is defined as the maximum of Hilbert-Schmidt norms of differences projected on each Hilbert space $\\mathcal{H}$ and $\\mathcal{K}$. $$\\mathrm{Error}(A,\\rho_1,\\rho_2) = \\max(\\lvert\\lvert\\mathrm{Tr}_1[\\Gamma]-\\rho_2\\rvert\\rvert_{HS}, \\lvert\\lvert\\mathrm{Tr}_2[\\Gamma]-\\rho_1\\rvert\\rvert_{HS})$$."
   ]
  },
  {
   "cell_type": "code",
   "execution_count": 8,
   "id": "9cd17a08",
   "metadata": {},
   "outputs": [],
   "source": [
    "def compute_error(Gamma: jnp.ndarray, rho_1: jnp.ndarray, rho_2: jnp.ndarray) -> float:\n",
    "    \"\"\"\n",
    "    Compute the error of the quantum gradient descent\n",
    "    \"\"\"\n",
    "    diff_H = tr_1(Gamma) - rho_2 # error on the first hilbert space H\n",
    "    diff_K = tr_2(Gamma) - rho_1 # error on the second hilbert space K\n",
    "    return max(hilbert_schmidt(diff_H), hilbert_schmidt(diff_K))"
   ]
  },
  {
   "cell_type": "markdown",
   "id": "8791a83f",
   "metadata": {},
   "source": [
    "### Quantum Gradient Descent\n",
    "We formulate the gradient descent algorithm as follows."
   ]
  },
  {
   "cell_type": "code",
   "execution_count": 9,
   "id": "c870331d",
   "metadata": {},
   "outputs": [],
   "source": [
    "def quantum_gradient_descent(C: jnp.ndarray, rho_1: jnp.ndarray, rho_2: jnp.ndarray, epsilon: float = 1, \n",
    "                             num_iter: int = 50000, convergence_error: float = 1e-9):\n",
    "    \"\"\"\n",
    "\tRun Quantum Gradient Descent algorithm for Quadratic Regularization\n",
    "\t\"\"\"\n",
    "    start_time = time.time()\n",
    "    n, m = rho_1.shape[0], rho_2.shape[0]\n",
    "    step_size = 1.0 / (m*n)\n",
    "    error, iterations = convergence_error * 2, 0\n",
    "    U, V = jnp.zeros_like(rho_1), jnp.zeros_like(rho_2)\n",
    "    P_old, P_new = jnp.eye(n*m), jnp.eye(n*m)\n",
    "    Gamma = jnp.zeros_like(C)\n",
    "    err_list = []\n",
    "    \n",
    "    for k in trange(num_iter):\n",
    "        \n",
    "        # update quantum coupling\n",
    "        Gamma = jnp.kron(U, jnp.eye(m)) + jnp.kron(jnp.eye(n), V) - C\n",
    "        Gamma = clip_diagonalize(Gamma) # normalize for nonnegative eigenvalues\n",
    "        Gamma, P_new = diagonalize(Gamma) # obtain eigenbasis for updated Gamma\n",
    "        \n",
    "        # change the representation into a new basis\n",
    "        Q = change_of_basis_matrix(P_old, P_new) # obtain change of basis matrix\n",
    "        U = represent_H(U, Q)\n",
    "        V = represent_K(V, Q)\n",
    "        rho_1 = represent_H(rho_1, Q)\n",
    "        rho_2 = represent_K(rho_2, Q)\n",
    "\n",
    "        # compute error of the updated Gamma and decide termination\n",
    "        error = compute_error(Gamma, rho_1, rho_2)\n",
    "        err_list.append(error)\n",
    "        if error < convergence_error:\n",
    "            iterations = k\n",
    "            break\n",
    "\n",
    "        # gradient descent updates\n",
    "        U += step_size * grad_U(Gamma, rho_1, epsilon)\n",
    "        V += step_size * grad_V(Gamma, rho_2, epsilon)\n",
    "        \n",
    "        P_old = P_new # update the eigenbasis matrix\n",
    "    \n",
    "    end_time = time.time()\n",
    "    time_taken = end_time - start_time\n",
    "    logger.success(f\"Gradient Descent | Elapsed: {time_taken} | Precision: {error}.\")\n",
    "    return Gamma, error, err_list, iterations, time_taken"
   ]
  },
  {
   "cell_type": "markdown",
   "id": "768f75f4",
   "metadata": {},
   "source": [
    "### Unit Test"
   ]
  },
  {
   "cell_type": "code",
   "execution_count": 10,
   "id": "2937a615",
   "metadata": {},
   "outputs": [
    {
     "name": "stderr",
     "output_type": "stream",
     "text": [
      "100%|██████████| 1000/1000 [00:09<00:00, 102.20it/s]\n",
      "2024-08-21 12:23:41.909 | SUCCESS  | __main__:quantum_gradient_descent:44 - Gradient Descent | Elapsed: 9.843427181243896 | Precision: 97.94133965088041.\n"
     ]
    },
    {
     "data": {
      "image/png": "[encoded data removed]",
      "text/plain": [
       "<Figure size 640x480 with 1 Axes>"
      ]
     },
     "metadata": {},
     "output_type": "display_data"
    },
    {
     "name": "stdout",
     "output_type": "stream",
     "text": [
      "[[  0.           0.           0.           0.        ]\n",
      " [  0.           0.           0.           0.        ]\n",
      " [  0.           0.           0.           0.        ]\n",
      " [  0.           0.           0.         197.08084146]]\n"
     ]
    }
   ],
   "source": [
    "rho_1 = jnp.array([[0.4, 0.1], [0.1, 0.6]])\n",
    "rho_2 = jnp.array([[0.4, 0.1], [0.1, 0.6]])\n",
    "cost = jnp.eye(rho_1.shape[0]**2)\n",
    "\n",
    "Gamma, error, err_lst, iters, elapsed_time = quantum_gradient_descent(cost, rho_1, rho_2, convergence_error=1e-3, num_iter=1000)\n",
    "\n",
    "x = np.linspace(start=1,stop=len(err_lst), num=len(err_lst), endpoint=True)\n",
    "plt.plot(x, err_lst, label=rf'Error over iteration')\n",
    "plt.legend()\n",
    "plt.show()\n",
    "\n",
    "print(Gamma)"
   ]
  },
  {
   "cell_type": "markdown",
   "id": "fd6bc040",
   "metadata": {},
   "source": [
    "### Unit Test for Scipy Optimizers"
   ]
  },
  {
   "cell_type": "markdown",
   "id": "1516cd6f",
   "metadata": {},
   "source": [
    "Define Frobenius inner product $\\langle A, B \\rangle = Tr[AB^\\dagger]$."
   ]
  },
  {
   "cell_type": "code",
   "execution_count": 11,
   "id": "c9e06915",
   "metadata": {},
   "outputs": [],
   "source": [
    "def frob_inner(A, B):\n",
    "    return jnp.sum(A * B)"
   ]
  },
  {
   "cell_type": "markdown",
   "id": "45275251",
   "metadata": {},
   "source": [
    "Define the Dual Functional $D_\\epsilon(U,V) = \\langle U, \\rho_1 \\rangle + \\langle V, \\rho_2 \\rangle - \\epsilon Tr\\left[\\frac{1}{2}\\left(\\frac{U\\oplus V - H}{\\epsilon}\\right)_+^2\\right]$"
   ]
  },
  {
   "cell_type": "code",
   "execution_count": 12,
   "id": "9ddf9c29",
   "metadata": {},
   "outputs": [],
   "source": [
    "def clip_diagonalize(A):\n",
    "    eigenvalues, eigenvectors = jnp.linalg.eigh(A) # diagonalize\n",
    "    eigenvalues = jnp.maximum(eigenvalues, 0) # clip to be nonnegative\n",
    "    clip_diagonal = jnp.diag(eigenvalues) # normalized diagonal matrix\n",
    "    A_new = eigenvectors @ clip_diagonal @ eigenvectors.T # represent in the original basis\n",
    "    return A_new\n",
    "\n",
    "def dual_functional(U: jnp.ndarray, V: jnp.ndarray, cost: jnp.ndarray, rho_1: jnp.ndarray, rho_2: jnp.ndarray, eps: float):\n",
    "    C_plus = clip_diagonalize((jnp.kron(U, V) - cost))\n",
    "    return 2 * eps * frob_inner(U, rho_1) + 2 * eps * frob_inner(V, rho_2) - frob_inner(C_plus, C_plus)"
   ]
  },
  {
   "cell_type": "markdown",
   "id": "2732c542",
   "metadata": {},
   "source": [
    "Define a wrapper for `dual_functional` for the use of optimizers."
   ]
  },
  {
   "cell_type": "code",
   "execution_count": 13,
   "id": "ba1e1624",
   "metadata": {},
   "outputs": [],
   "source": [
    "def objective_func(params, cost, marginals, eps):\n",
    "    n = marginals[0].shape[0]\n",
    "    U, V = params[:n], params[n:]\n",
    "    return dual_functional(U, V, cost, marginals[0], marginals[1], eps)"
   ]
  },
  {
   "cell_type": "code",
   "execution_count": 14,
   "id": "a288179f",
   "metadata": {},
   "outputs": [],
   "source": [
    "MAXITER = 500\n",
    "\n",
    "def maximize_lagrange(optimizer, marginal, cost, epsilon):\n",
    "    # initialize potentials\n",
    "    U0, V0 = jnp.zeros_like(marginal[0]), jnp.zeros_like(marginal[1])\n",
    "    UV0 = jnp.concatenate([U0, V0])\n",
    "\n",
    "    # select optimizer\n",
    "    if optimizer == \"gradient-descent\":\n",
    "        solver = jaxopt.GradientDescent(fun=objective_func, maxiter=MAXITER)\n",
    "    elif optimizer == \"nonlinear-CG\":\n",
    "        solver = jaxopt.NonlinearCG(fun=objective_func, method=\"polak-ribiere\", maxiter=MAXITER)\n",
    "    elif optimizer == \"LBFGS\":\n",
    "        solver = jaxopt.LBFGS(fun=objective_func, maxiter=MAXITER)\n",
    "    else:\n",
    "        solver = jaxopt.ScipyMinimize(fun=objective_func, method=optimizer, maxiter=MAXITER)\n",
    "    res = solver.run(init_params=UV0, cost=cost, marginals=marginal, eps=epsilon)\n",
    "\n",
    "    # unpack results\n",
    "    params, state = res\n",
    "    \n",
    "    n = marginal[0].shape[0]\n",
    "    U, V = params[:n], params[n:]\n",
    "\n",
    "    # Reconstruct coupling\n",
    "    C_plus = clip_diagonalize((np.kron(U, V) - cost))\n",
    "    return C_plus/epsilon\n"
   ]
  },
  {
   "cell_type": "markdown",
   "id": "b43fef05",
   "metadata": {},
   "source": [
    "Run the test."
   ]
  },
  {
   "cell_type": "code",
   "execution_count": 17,
   "id": "ce235b3f",
   "metadata": {},
   "outputs": [
    {
     "name": "stdout",
     "output_type": "stream",
     "text": [
      "[[nan nan nan nan]\n",
      " [nan nan nan nan]\n",
      " [nan nan nan nan]\n",
      " [nan nan nan nan]]\n",
      "[[nan nan nan nan]\n",
      " [nan nan nan nan]\n",
      " [nan nan nan nan]\n",
      " [nan nan nan nan]]\n",
      "[[nan nan nan nan]\n",
      " [nan nan nan nan]\n",
      " [nan nan nan nan]\n",
      " [nan nan nan nan]]\n"
     ]
    },
    {
     "name": "stderr",
     "output_type": "stream",
     "text": [
      "c:\\Users\\Dohyoung\\.conda\\envs\\FUSRP\\Lib\\site-packages\\jax\\_src\\core.py:691: FutureWarning: unhashable type: <class 'jax._src.interpreters.partial_eval.DynamicJaxprTracer'>. Attempting to hash a tracer will lead to an error in a future JAX release.\n",
      "  warnings.warn(\n",
      "c:\\Users\\Dohyoung\\.conda\\envs\\FUSRP\\Lib\\site-packages\\jax\\_src\\core.py:691: FutureWarning: unhashable type: <class 'jax._src.interpreters.partial_eval.DynamicJaxprTracer'>. Attempting to hash a tracer will lead to an error in a future JAX release.\n",
      "  warnings.warn(\n"
     ]
    },
    {
     "name": "stdout",
     "output_type": "stream",
     "text": [
      "WARNING: jaxopt.ZoomLineSearch: NaN or Inf values encountered in function values.\n",
      "INFO: jaxopt.ZoomLineSearch: Iter: 1 Minimum Decrease & Curvature Errors (stop. crit.): inf Stepsize:1.0  Decrease Error:inf  Curvature Error:inf \n",
      "WARNING: jaxopt.ZoomLineSearch: NaN or Inf values encountered in function values.\n",
      "INFO: jaxopt.ZoomLineSearch: Iter: 2 Minimum Decrease & Curvature Errors (stop. crit.): inf Stepsize:0.5  Decrease Error:inf  Curvature Error:inf \n",
      "WARNING: jaxopt.ZoomLineSearch: NaN or Inf values encountered in function values.\n",
      "INFO: jaxopt.ZoomLineSearch: Iter: 3 Minimum Decrease & Curvature Errors (stop. crit.): inf Stepsize:0.25  Decrease Error:inf  Curvature Error:inf \n",
      "WARNING: jaxopt.ZoomLineSearch: NaN or Inf values encountered in function values.\n",
      "INFO: jaxopt.ZoomLineSearch: Iter: 4 Minimum Decrease & Curvature Errors (stop. crit.): inf Stepsize:0.125  Decrease Error:inf  Curvature Error:inf \n",
      "WARNING: jaxopt.ZoomLineSearch: NaN or Inf values encountered in function values.\n",
      "INFO: jaxopt.ZoomLineSearch: Iter: 5 Minimum Decrease & Curvature Errors (stop. crit.): inf Stepsize:0.0625  Decrease Error:inf  Curvature Error:inf \n",
      "WARNING: jaxopt.ZoomLineSearch: NaN or Inf values encountered in function values.\n",
      "INFO: jaxopt.ZoomLineSearch: Iter: 6 Minimum Decrease & Curvature Errors (stop. crit.): inf Stepsize:0.03125  Decrease Error:inf  Curvature Error:inf \n",
      "WARNING: jaxopt.ZoomLineSearch: NaN or Inf values encountered in function values.\n",
      "INFO: jaxopt.ZoomLineSearch: Iter: 7 Minimum Decrease & Curvature Errors (stop. crit.): inf Stepsize:0.015625  Decrease Error:inf  Curvature Error:inf \n",
      "WARNING: jaxopt.ZoomLineSearch: NaN or Inf values encountered in function values.\n",
      "INFO: jaxopt.ZoomLineSearch: Iter: 8 Minimum Decrease & Curvature Errors (stop. crit.): inf Stepsize:0.0078125  Decrease Error:inf  Curvature Error:inf \n",
      "WARNING: jaxopt.ZoomLineSearch: NaN or Inf values encountered in function values.\n",
      "INFO: jaxopt.ZoomLineSearch: Iter: 9 Minimum Decrease & Curvature Errors (stop. crit.): inf Stepsize:0.00390625  Decrease Error:inf  Curvature Error:inf \n",
      "WARNING: jaxopt.ZoomLineSearch: NaN or Inf values encountered in function values.\n",
      "INFO: jaxopt.ZoomLineSearch: Iter: 10 Minimum Decrease & Curvature Errors (stop. crit.): inf Stepsize:0.001953125  Decrease Error:inf  Curvature Error:inf \n",
      "WARNING: jaxopt.ZoomLineSearch: NaN or Inf values encountered in function values.\n",
      "INFO: jaxopt.ZoomLineSearch: Iter: 11 Minimum Decrease & Curvature Errors (stop. crit.): inf Stepsize:0.0009765625  Decrease Error:inf  Curvature Error:inf \n",
      "WARNING: jaxopt.ZoomLineSearch: NaN or Inf values encountered in function values.\n",
      "INFO: jaxopt.ZoomLineSearch: Iter: 12 Minimum Decrease & Curvature Errors (stop. crit.): inf Stepsize:0.00048828125  Decrease Error:inf  Curvature Error:inf \n",
      "WARNING: jaxopt.ZoomLineSearch: NaN or Inf values encountered in function values.\n",
      "INFO: jaxopt.ZoomLineSearch: Iter: 13 Minimum Decrease & Curvature Errors (stop. crit.): inf Stepsize:0.000244140625  Decrease Error:inf  Curvature Error:inf \n",
      "WARNING: jaxopt.ZoomLineSearch: NaN or Inf values encountered in function values.\n",
      "INFO: jaxopt.ZoomLineSearch: Iter: 14 Minimum Decrease & Curvature Errors (stop. crit.): inf Stepsize:0.0001220703125  Decrease Error:inf  Curvature Error:inf \n",
      "WARNING: jaxopt.ZoomLineSearch: NaN or Inf values encountered in function values.\n",
      "INFO: jaxopt.ZoomLineSearch: Iter: 15 Minimum Decrease & Curvature Errors (stop. crit.): inf Stepsize:6.103515625e-05  Decrease Error:inf  Curvature Error:inf \n",
      "WARNING: jaxopt.ZoomLineSearch: NaN or Inf values encountered in function values.\n",
      "INFO: jaxopt.ZoomLineSearch: Iter: 16 Minimum Decrease & Curvature Errors (stop. crit.): inf Stepsize:3.0517578125e-05  Decrease Error:inf  Curvature Error:inf \n",
      "WARNING: jaxopt.ZoomLineSearch: NaN or Inf values encountered in function values.\n",
      "INFO: jaxopt.ZoomLineSearch: Iter: 17 Minimum Decrease & Curvature Errors (stop. crit.): inf Stepsize:1.52587890625e-05  Decrease Error:inf  Curvature Error:inf \n",
      "WARNING: jaxopt.ZoomLineSearch: NaN or Inf values encountered in function values.\n",
      "INFO: jaxopt.ZoomLineSearch: Iter: 18 Minimum Decrease & Curvature Errors (stop. crit.): inf Stepsize:7.62939453125e-06  Decrease Error:inf  Curvature Error:inf \n",
      "WARNING: jaxopt.ZoomLineSearch: NaN or Inf values encountered in function values.\n",
      "INFO: jaxopt.ZoomLineSearch: Iter: 19 Minimum Decrease & Curvature Errors (stop. crit.): inf Stepsize:3.814697265625e-06  Decrease Error:inf  Curvature Error:inf \n",
      "WARNING: jaxopt.ZoomLineSearch: NaN or Inf values encountered in function values.\n",
      "INFO: jaxopt.ZoomLineSearch: Iter: 20 Minimum Decrease & Curvature Errors (stop. crit.): inf Stepsize:1.9073486328125e-06  Decrease Error:inf  Curvature Error:inf \n",
      "WARNING: jaxopt.ZoomLineSearch: NaN or Inf values encountered in function values.\n",
      "INFO: jaxopt.ZoomLineSearch: Iter: 21 Minimum Decrease & Curvature Errors (stop. crit.): inf Stepsize:9.5367431640625e-07  Decrease Error:inf  Curvature Error:inf \n",
      "WARNING: jaxopt.ZoomLineSearch: Length of searched interval has been reduced below threshold.\n",
      "WARNING: jaxopt.ZoomLineSearch: NaN or Inf values encountered in function values.\n",
      "INFO: jaxopt.ZoomLineSearch: Iter: 22 Minimum Decrease & Curvature Errors (stop. crit.): inf Stepsize:4.76837158203125e-07  Decrease Error:inf  Curvature Error:inf \n",
      "WARNING: jaxopt.ZoomLineSearch: Length of searched interval has been reduced below threshold.\n",
      "WARNING: jaxopt.ZoomLineSearch: NaN or Inf values encountered in function values.\n",
      "INFO: jaxopt.ZoomLineSearch: Iter: 23 Minimum Decrease & Curvature Errors (stop. crit.): inf Stepsize:2.384185791015625e-07  Decrease Error:inf  Curvature Error:inf \n",
      "WARNING: jaxopt.ZoomLineSearch: Length of searched interval has been reduced below threshold.\n",
      "WARNING: jaxopt.ZoomLineSearch: NaN or Inf values encountered in function values.\n",
      "INFO: jaxopt.ZoomLineSearch: Iter: 24 Minimum Decrease & Curvature Errors (stop. crit.): inf Stepsize:1.1920928955078125e-07  Decrease Error:inf  Curvature Error:inf \n",
      "WARNING: jaxopt.ZoomLineSearch: Length of searched interval has been reduced below threshold.\n",
      "WARNING: jaxopt.ZoomLineSearch: NaN or Inf values encountered in function values.\n",
      "INFO: jaxopt.ZoomLineSearch: Iter: 25 Minimum Decrease & Curvature Errors (stop. crit.): inf Stepsize:5.960464477539063e-08  Decrease Error:inf  Curvature Error:inf \n",
      "WARNING: jaxopt.ZoomLineSearch: Length of searched interval has been reduced below threshold.\n",
      "WARNING: jaxopt.ZoomLineSearch: NaN or Inf values encountered in function values.\n",
      "INFO: jaxopt.ZoomLineSearch: Iter: 26 Minimum Decrease & Curvature Errors (stop. crit.): inf Stepsize:2.9802322387695312e-08  Decrease Error:inf  Curvature Error:inf \n",
      "WARNING: jaxopt.ZoomLineSearch: Length of searched interval has been reduced below threshold.\n",
      "WARNING: jaxopt.ZoomLineSearch: NaN or Inf values encountered in function values.\n",
      "INFO: jaxopt.ZoomLineSearch: Iter: 27 Minimum Decrease & Curvature Errors (stop. crit.): inf Stepsize:1.4901161193847656e-08  Decrease Error:inf  Curvature Error:inf \n",
      "WARNING: jaxopt.ZoomLineSearch: Length of searched interval has been reduced below threshold.\n",
      "WARNING: jaxopt.ZoomLineSearch: NaN or Inf values encountered in function values.\n",
      "INFO: jaxopt.ZoomLineSearch: Iter: 28 Minimum Decrease & Curvature Errors (stop. crit.): inf Stepsize:7.450580596923828e-09  Decrease Error:inf  Curvature Error:inf \n",
      "WARNING: jaxopt.ZoomLineSearch: Length of searched interval has been reduced below threshold.\n",
      "WARNING: jaxopt.ZoomLineSearch: NaN or Inf values encountered in function values.\n",
      "INFO: jaxopt.ZoomLineSearch: Iter: 29 Minimum Decrease & Curvature Errors (stop. crit.): inf Stepsize:3.725290298461914e-09  Decrease Error:inf  Curvature Error:inf \n",
      "WARNING: jaxopt.ZoomLineSearch: Length of searched interval has been reduced below threshold.\n",
      "WARNING: jaxopt.ZoomLineSearch: NaN or Inf values encountered in function values.\n",
      "WARNING: jaxopt.ZoomLineSearch: Linesearch failed, no stepsize satisfying sufficient decrease found.\n",
      "WARNING: jaxopt.ZoomLineSearch: The linesearch failed because the provided direction is not a descent direction. The slope (=nan) at stepsize=0 should be negative\n",
      "WARNING: jaxopt.ZoomLineSearch: Cannot even make a step without getting Inf or Nan. The linesearch won't make a step and the optimizer is stuck.\n",
      "INFO: jaxopt.ZoomLineSearch: Iter: 30 Minimum Decrease & Curvature Errors (stop. crit.): inf Stepsize:1.862645149230957e-09  Decrease Error:inf  Curvature Error:inf \n",
      "INFO: jaxopt.ZoomLineSearch: Iter: 30 Minimum Decrease & Curvature Errors (stop. crit.): inf Stepsize:0.0  Decrease Error:inf  Curvature Error:inf \n",
      "[[nan nan nan nan]\n",
      " [nan nan nan nan]\n",
      " [nan nan nan nan]\n",
      " [nan nan nan nan]]\n"
     ]
    },
    {
     "name": "stderr",
     "output_type": "stream",
     "text": [
      "c:\\Users\\Dohyoung\\.conda\\envs\\FUSRP\\Lib\\site-packages\\jax\\_src\\core.py:691: FutureWarning: unhashable type: <class 'jax._src.interpreters.partial_eval.DynamicJaxprTracer'>. Attempting to hash a tracer will lead to an error in a future JAX release.\n",
      "  warnings.warn(\n",
      "c:\\Users\\Dohyoung\\.conda\\envs\\FUSRP\\Lib\\site-packages\\jax\\_src\\core.py:691: FutureWarning: unhashable type: <class 'jax._src.interpreters.partial_eval.DynamicJaxprTracer'>. Attempting to hash a tracer will lead to an error in a future JAX release.\n",
      "  warnings.warn(\n"
     ]
    },
    {
     "name": "stdout",
     "output_type": "stream",
     "text": [
      "WARNING: jaxopt.ZoomLineSearch: NaN or Inf values encountered in function values.\n",
      "INFO: jaxopt.ZoomLineSearch: Iter: 1 Minimum Decrease & Curvature Errors (stop. crit.): inf Stepsize:1.0  Decrease Error:inf  Curvature Error:inf \n",
      "WARNING: jaxopt.ZoomLineSearch: NaN or Inf values encountered in function values.\n",
      "INFO: jaxopt.ZoomLineSearch: Iter: 2 Minimum Decrease & Curvature Errors (stop. crit.): inf Stepsize:0.5  Decrease Error:inf  Curvature Error:inf \n",
      "WARNING: jaxopt.ZoomLineSearch: NaN or Inf values encountered in function values.\n",
      "INFO: jaxopt.ZoomLineSearch: Iter: 3 Minimum Decrease & Curvature Errors (stop. crit.): inf Stepsize:0.25  Decrease Error:inf  Curvature Error:inf \n",
      "WARNING: jaxopt.ZoomLineSearch: NaN or Inf values encountered in function values.\n",
      "INFO: jaxopt.ZoomLineSearch: Iter: 4 Minimum Decrease & Curvature Errors (stop. crit.): inf Stepsize:0.125  Decrease Error:inf  Curvature Error:inf \n",
      "WARNING: jaxopt.ZoomLineSearch: NaN or Inf values encountered in function values.\n",
      "INFO: jaxopt.ZoomLineSearch: Iter: 5 Minimum Decrease & Curvature Errors (stop. crit.): inf Stepsize:0.0625  Decrease Error:inf  Curvature Error:inf \n",
      "WARNING: jaxopt.ZoomLineSearch: NaN or Inf values encountered in function values.\n",
      "INFO: jaxopt.ZoomLineSearch: Iter: 6 Minimum Decrease & Curvature Errors (stop. crit.): inf Stepsize:0.03125  Decrease Error:inf  Curvature Error:inf \n",
      "WARNING: jaxopt.ZoomLineSearch: NaN or Inf values encountered in function values.\n",
      "INFO: jaxopt.ZoomLineSearch: Iter: 7 Minimum Decrease & Curvature Errors (stop. crit.): inf Stepsize:0.015625  Decrease Error:inf  Curvature Error:inf \n",
      "WARNING: jaxopt.ZoomLineSearch: NaN or Inf values encountered in function values.\n",
      "INFO: jaxopt.ZoomLineSearch: Iter: 8 Minimum Decrease & Curvature Errors (stop. crit.): inf Stepsize:0.0078125  Decrease Error:inf  Curvature Error:inf \n",
      "WARNING: jaxopt.ZoomLineSearch: NaN or Inf values encountered in function values.\n",
      "INFO: jaxopt.ZoomLineSearch: Iter: 9 Minimum Decrease & Curvature Errors (stop. crit.): inf Stepsize:0.00390625  Decrease Error:inf  Curvature Error:inf \n",
      "WARNING: jaxopt.ZoomLineSearch: NaN or Inf values encountered in function values.\n",
      "INFO: jaxopt.ZoomLineSearch: Iter: 10 Minimum Decrease & Curvature Errors (stop. crit.): inf Stepsize:0.001953125  Decrease Error:inf  Curvature Error:inf \n",
      "WARNING: jaxopt.ZoomLineSearch: NaN or Inf values encountered in function values.\n",
      "INFO: jaxopt.ZoomLineSearch: Iter: 11 Minimum Decrease & Curvature Errors (stop. crit.): inf Stepsize:0.0009765625  Decrease Error:inf  Curvature Error:inf \n",
      "WARNING: jaxopt.ZoomLineSearch: NaN or Inf values encountered in function values.\n",
      "INFO: jaxopt.ZoomLineSearch: Iter: 12 Minimum Decrease & Curvature Errors (stop. crit.): inf Stepsize:0.00048828125  Decrease Error:inf  Curvature Error:inf \n",
      "WARNING: jaxopt.ZoomLineSearch: NaN or Inf values encountered in function values.\n",
      "INFO: jaxopt.ZoomLineSearch: Iter: 13 Minimum Decrease & Curvature Errors (stop. crit.): inf Stepsize:0.000244140625  Decrease Error:inf  Curvature Error:inf \n",
      "WARNING: jaxopt.ZoomLineSearch: NaN or Inf values encountered in function values.\n",
      "INFO: jaxopt.ZoomLineSearch: Iter: 14 Minimum Decrease & Curvature Errors (stop. crit.): inf Stepsize:0.0001220703125  Decrease Error:inf  Curvature Error:inf \n",
      "WARNING: jaxopt.ZoomLineSearch: NaN or Inf values encountered in function values.\n",
      "INFO: jaxopt.ZoomLineSearch: Iter: 15 Minimum Decrease & Curvature Errors (stop. crit.): inf Stepsize:6.103515625e-05  Decrease Error:inf  Curvature Error:inf \n",
      "WARNING: jaxopt.ZoomLineSearch: NaN or Inf values encountered in function values.\n",
      "INFO: jaxopt.ZoomLineSearch: Iter: 16 Minimum Decrease & Curvature Errors (stop. crit.): inf Stepsize:3.0517578125e-05  Decrease Error:inf  Curvature Error:inf \n",
      "WARNING: jaxopt.ZoomLineSearch: NaN or Inf values encountered in function values.\n",
      "INFO: jaxopt.ZoomLineSearch: Iter: 17 Minimum Decrease & Curvature Errors (stop. crit.): inf Stepsize:1.52587890625e-05  Decrease Error:inf  Curvature Error:inf \n",
      "WARNING: jaxopt.ZoomLineSearch: NaN or Inf values encountered in function values.\n",
      "INFO: jaxopt.ZoomLineSearch: Iter: 18 Minimum Decrease & Curvature Errors (stop. crit.): inf Stepsize:7.62939453125e-06  Decrease Error:inf  Curvature Error:inf \n",
      "WARNING: jaxopt.ZoomLineSearch: NaN or Inf values encountered in function values.\n",
      "INFO: jaxopt.ZoomLineSearch: Iter: 19 Minimum Decrease & Curvature Errors (stop. crit.): inf Stepsize:3.814697265625e-06  Decrease Error:inf  Curvature Error:inf \n",
      "WARNING: jaxopt.ZoomLineSearch: NaN or Inf values encountered in function values.\n",
      "INFO: jaxopt.ZoomLineSearch: Iter: 20 Minimum Decrease & Curvature Errors (stop. crit.): inf Stepsize:1.9073486328125e-06  Decrease Error:inf  Curvature Error:inf \n",
      "WARNING: jaxopt.ZoomLineSearch: NaN or Inf values encountered in function values.\n",
      "INFO: jaxopt.ZoomLineSearch: Iter: 21 Minimum Decrease & Curvature Errors (stop. crit.): inf Stepsize:9.5367431640625e-07  Decrease Error:inf  Curvature Error:inf \n",
      "WARNING: jaxopt.ZoomLineSearch: Length of searched interval has been reduced below threshold.\n",
      "WARNING: jaxopt.ZoomLineSearch: NaN or Inf values encountered in function values.\n",
      "INFO: jaxopt.ZoomLineSearch: Iter: 22 Minimum Decrease & Curvature Errors (stop. crit.): inf Stepsize:4.76837158203125e-07  Decrease Error:inf  Curvature Error:inf \n",
      "WARNING: jaxopt.ZoomLineSearch: Length of searched interval has been reduced below threshold.\n",
      "WARNING: jaxopt.ZoomLineSearch: NaN or Inf values encountered in function values.\n",
      "INFO: jaxopt.ZoomLineSearch: Iter: 23 Minimum Decrease & Curvature Errors (stop. crit.): inf Stepsize:2.384185791015625e-07  Decrease Error:inf  Curvature Error:inf \n",
      "WARNING: jaxopt.ZoomLineSearch: Length of searched interval has been reduced below threshold.\n",
      "WARNING: jaxopt.ZoomLineSearch: NaN or Inf values encountered in function values.\n",
      "INFO: jaxopt.ZoomLineSearch: Iter: 24 Minimum Decrease & Curvature Errors (stop. crit.): inf Stepsize:1.1920928955078125e-07  Decrease Error:inf  Curvature Error:inf \n",
      "WARNING: jaxopt.ZoomLineSearch: Length of searched interval has been reduced below threshold.\n",
      "WARNING: jaxopt.ZoomLineSearch: NaN or Inf values encountered in function values.\n",
      "INFO: jaxopt.ZoomLineSearch: Iter: 25 Minimum Decrease & Curvature Errors (stop. crit.): inf Stepsize:5.960464477539063e-08  Decrease Error:inf  Curvature Error:inf \n",
      "WARNING: jaxopt.ZoomLineSearch: Length of searched interval has been reduced below threshold.\n",
      "WARNING: jaxopt.ZoomLineSearch: NaN or Inf values encountered in function values.\n",
      "INFO: jaxopt.ZoomLineSearch: Iter: 26 Minimum Decrease & Curvature Errors (stop. crit.): inf Stepsize:2.9802322387695312e-08  Decrease Error:inf  Curvature Error:inf \n",
      "WARNING: jaxopt.ZoomLineSearch: Length of searched interval has been reduced below threshold.\n",
      "WARNING: jaxopt.ZoomLineSearch: NaN or Inf values encountered in function values.\n",
      "INFO: jaxopt.ZoomLineSearch: Iter: 27 Minimum Decrease & Curvature Errors (stop. crit.): inf Stepsize:1.4901161193847656e-08  Decrease Error:inf  Curvature Error:inf \n",
      "WARNING: jaxopt.ZoomLineSearch: Length of searched interval has been reduced below threshold.\n",
      "WARNING: jaxopt.ZoomLineSearch: NaN or Inf values encountered in function values.\n",
      "INFO: jaxopt.ZoomLineSearch: Iter: 28 Minimum Decrease & Curvature Errors (stop. crit.): inf Stepsize:7.450580596923828e-09  Decrease Error:inf  Curvature Error:inf \n",
      "WARNING: jaxopt.ZoomLineSearch: Length of searched interval has been reduced below threshold.\n",
      "WARNING: jaxopt.ZoomLineSearch: NaN or Inf values encountered in function values.\n",
      "INFO: jaxopt.ZoomLineSearch: Iter: 29 Minimum Decrease & Curvature Errors (stop. crit.): inf Stepsize:3.725290298461914e-09  Decrease Error:inf  Curvature Error:inf \n",
      "WARNING: jaxopt.ZoomLineSearch: Length of searched interval has been reduced below threshold.\n",
      "WARNING: jaxopt.ZoomLineSearch: NaN or Inf values encountered in function values.\n",
      "WARNING: jaxopt.ZoomLineSearch: Linesearch failed, no stepsize satisfying sufficient decrease found.\n",
      "WARNING: jaxopt.ZoomLineSearch: The linesearch failed because the provided direction is not a descent direction. The slope (=nan) at stepsize=0 should be negative\n",
      "WARNING: jaxopt.ZoomLineSearch: Cannot even make a step without getting Inf or Nan. The linesearch won't make a step and the optimizer is stuck.\n",
      "INFO: jaxopt.ZoomLineSearch: Iter: 30 Minimum Decrease & Curvature Errors (stop. crit.): inf Stepsize:1.862645149230957e-09  Decrease Error:inf  Curvature Error:inf \n",
      "INFO: jaxopt.ZoomLineSearch: Iter: 30 Minimum Decrease & Curvature Errors (stop. crit.): inf Stepsize:0.0  Decrease Error:inf  Curvature Error:inf \n",
      "[[nan nan nan nan]\n",
      " [nan nan nan nan]\n",
      " [nan nan nan nan]\n",
      " [nan nan nan nan]]\n"
     ]
    },
    {
     "name": "stderr",
     "output_type": "stream",
     "text": [
      "c:\\Users\\Dohyoung\\.conda\\envs\\FUSRP\\Lib\\site-packages\\jax\\_src\\core.py:691: FutureWarning: unhashable type: <class 'jax._src.interpreters.partial_eval.DynamicJaxprTracer'>. Attempting to hash a tracer will lead to an error in a future JAX release.\n",
      "  warnings.warn(\n",
      "c:\\Users\\Dohyoung\\.conda\\envs\\FUSRP\\Lib\\site-packages\\jax\\_src\\core.py:691: FutureWarning: unhashable type: <class 'jax._src.interpreters.partial_eval.DynamicJaxprTracer'>. Attempting to hash a tracer will lead to an error in a future JAX release.\n",
      "  warnings.warn(\n"
     ]
    },
    {
     "name": "stdout",
     "output_type": "stream",
     "text": [
      "WARNING: jaxopt.ZoomLineSearch: NaN or Inf values encountered in function values.\n",
      "INFO: jaxopt.ZoomLineSearch: Iter: 1 Minimum Decrease & Curvature Errors (stop. crit.): inf Stepsize:1.0  Decrease Error:inf  Curvature Error:inf \n",
      "WARNING: jaxopt.ZoomLineSearch: NaN or Inf values encountered in function values.\n",
      "INFO: jaxopt.ZoomLineSearch: Iter: 2 Minimum Decrease & Curvature Errors (stop. crit.): inf Stepsize:0.5  Decrease Error:inf  Curvature Error:inf \n",
      "WARNING: jaxopt.ZoomLineSearch: NaN or Inf values encountered in function values.\n",
      "INFO: jaxopt.ZoomLineSearch: Iter: 3 Minimum Decrease & Curvature Errors (stop. crit.): inf Stepsize:0.25  Decrease Error:inf  Curvature Error:inf \n",
      "WARNING: jaxopt.ZoomLineSearch: NaN or Inf values encountered in function values.\n",
      "INFO: jaxopt.ZoomLineSearch: Iter: 4 Minimum Decrease & Curvature Errors (stop. crit.): inf Stepsize:0.125  Decrease Error:inf  Curvature Error:inf \n",
      "WARNING: jaxopt.ZoomLineSearch: NaN or Inf values encountered in function values.\n",
      "INFO: jaxopt.ZoomLineSearch: Iter: 5 Minimum Decrease & Curvature Errors (stop. crit.): inf Stepsize:0.0625  Decrease Error:inf  Curvature Error:inf \n",
      "WARNING: jaxopt.ZoomLineSearch: NaN or Inf values encountered in function values.\n",
      "INFO: jaxopt.ZoomLineSearch: Iter: 6 Minimum Decrease & Curvature Errors (stop. crit.): inf Stepsize:0.03125  Decrease Error:inf  Curvature Error:inf \n",
      "WARNING: jaxopt.ZoomLineSearch: NaN or Inf values encountered in function values.\n",
      "INFO: jaxopt.ZoomLineSearch: Iter: 7 Minimum Decrease & Curvature Errors (stop. crit.): inf Stepsize:0.015625  Decrease Error:inf  Curvature Error:inf \n",
      "WARNING: jaxopt.ZoomLineSearch: NaN or Inf values encountered in function values.\n",
      "INFO: jaxopt.ZoomLineSearch: Iter: 8 Minimum Decrease & Curvature Errors (stop. crit.): inf Stepsize:0.0078125  Decrease Error:inf  Curvature Error:inf \n",
      "WARNING: jaxopt.ZoomLineSearch: NaN or Inf values encountered in function values.\n",
      "INFO: jaxopt.ZoomLineSearch: Iter: 9 Minimum Decrease & Curvature Errors (stop. crit.): inf Stepsize:0.00390625  Decrease Error:inf  Curvature Error:inf \n",
      "WARNING: jaxopt.ZoomLineSearch: NaN or Inf values encountered in function values.\n",
      "INFO: jaxopt.ZoomLineSearch: Iter: 10 Minimum Decrease & Curvature Errors (stop. crit.): inf Stepsize:0.001953125  Decrease Error:inf  Curvature Error:inf \n",
      "WARNING: jaxopt.ZoomLineSearch: NaN or Inf values encountered in function values.\n",
      "INFO: jaxopt.ZoomLineSearch: Iter: 11 Minimum Decrease & Curvature Errors (stop. crit.): inf Stepsize:0.0009765625  Decrease Error:inf  Curvature Error:inf \n",
      "WARNING: jaxopt.ZoomLineSearch: NaN or Inf values encountered in function values.\n",
      "INFO: jaxopt.ZoomLineSearch: Iter: 12 Minimum Decrease & Curvature Errors (stop. crit.): inf Stepsize:0.00048828125  Decrease Error:inf  Curvature Error:inf \n",
      "WARNING: jaxopt.ZoomLineSearch: NaN or Inf values encountered in function values.\n",
      "INFO: jaxopt.ZoomLineSearch: Iter: 13 Minimum Decrease & Curvature Errors (stop. crit.): inf Stepsize:0.000244140625  Decrease Error:inf  Curvature Error:inf \n",
      "WARNING: jaxopt.ZoomLineSearch: NaN or Inf values encountered in function values.\n",
      "INFO: jaxopt.ZoomLineSearch: Iter: 14 Minimum Decrease & Curvature Errors (stop. crit.): inf Stepsize:0.0001220703125  Decrease Error:inf  Curvature Error:inf \n",
      "WARNING: jaxopt.ZoomLineSearch: NaN or Inf values encountered in function values.\n",
      "INFO: jaxopt.ZoomLineSearch: Iter: 15 Minimum Decrease & Curvature Errors (stop. crit.): inf Stepsize:6.103515625e-05  Decrease Error:inf  Curvature Error:inf \n",
      "WARNING: jaxopt.ZoomLineSearch: NaN or Inf values encountered in function values.\n",
      "INFO: jaxopt.ZoomLineSearch: Iter: 16 Minimum Decrease & Curvature Errors (stop. crit.): inf Stepsize:3.0517578125e-05  Decrease Error:inf  Curvature Error:inf \n",
      "WARNING: jaxopt.ZoomLineSearch: NaN or Inf values encountered in function values.\n",
      "INFO: jaxopt.ZoomLineSearch: Iter: 17 Minimum Decrease & Curvature Errors (stop. crit.): inf Stepsize:1.52587890625e-05  Decrease Error:inf  Curvature Error:inf \n",
      "WARNING: jaxopt.ZoomLineSearch: NaN or Inf values encountered in function values.\n",
      "INFO: jaxopt.ZoomLineSearch: Iter: 18 Minimum Decrease & Curvature Errors (stop. crit.): inf Stepsize:7.62939453125e-06  Decrease Error:inf  Curvature Error:inf \n",
      "WARNING: jaxopt.ZoomLineSearch: NaN or Inf values encountered in function values.\n",
      "INFO: jaxopt.ZoomLineSearch: Iter: 19 Minimum Decrease & Curvature Errors (stop. crit.): inf Stepsize:3.814697265625e-06  Decrease Error:inf  Curvature Error:inf \n",
      "WARNING: jaxopt.ZoomLineSearch: NaN or Inf values encountered in function values.\n",
      "INFO: jaxopt.ZoomLineSearch: Iter: 20 Minimum Decrease & Curvature Errors (stop. crit.): inf Stepsize:1.9073486328125e-06  Decrease Error:inf  Curvature Error:inf \n",
      "WARNING: jaxopt.ZoomLineSearch: NaN or Inf values encountered in function values.\n",
      "INFO: jaxopt.ZoomLineSearch: Iter: 21 Minimum Decrease & Curvature Errors (stop. crit.): inf Stepsize:9.5367431640625e-07  Decrease Error:inf  Curvature Error:inf \n",
      "WARNING: jaxopt.ZoomLineSearch: Length of searched interval has been reduced below threshold.\n",
      "WARNING: jaxopt.ZoomLineSearch: NaN or Inf values encountered in function values.\n",
      "INFO: jaxopt.ZoomLineSearch: Iter: 22 Minimum Decrease & Curvature Errors (stop. crit.): inf Stepsize:4.76837158203125e-07  Decrease Error:inf  Curvature Error:inf \n",
      "WARNING: jaxopt.ZoomLineSearch: Length of searched interval has been reduced below threshold.\n",
      "WARNING: jaxopt.ZoomLineSearch: NaN or Inf values encountered in function values.\n",
      "INFO: jaxopt.ZoomLineSearch: Iter: 23 Minimum Decrease & Curvature Errors (stop. crit.): inf Stepsize:2.384185791015625e-07  Decrease Error:inf  Curvature Error:inf \n",
      "WARNING: jaxopt.ZoomLineSearch: Length of searched interval has been reduced below threshold.\n",
      "WARNING: jaxopt.ZoomLineSearch: NaN or Inf values encountered in function values.\n",
      "INFO: jaxopt.ZoomLineSearch: Iter: 24 Minimum Decrease & Curvature Errors (stop. crit.): inf Stepsize:1.1920928955078125e-07  Decrease Error:inf  Curvature Error:inf \n",
      "WARNING: jaxopt.ZoomLineSearch: Length of searched interval has been reduced below threshold.\n",
      "WARNING: jaxopt.ZoomLineSearch: NaN or Inf values encountered in function values.\n",
      "INFO: jaxopt.ZoomLineSearch: Iter: 25 Minimum Decrease & Curvature Errors (stop. crit.): inf Stepsize:5.960464477539063e-08  Decrease Error:inf  Curvature Error:inf \n",
      "WARNING: jaxopt.ZoomLineSearch: Length of searched interval has been reduced below threshold.\n",
      "WARNING: jaxopt.ZoomLineSearch: NaN or Inf values encountered in function values.\n",
      "INFO: jaxopt.ZoomLineSearch: Iter: 26 Minimum Decrease & Curvature Errors (stop. crit.): inf Stepsize:2.9802322387695312e-08  Decrease Error:inf  Curvature Error:inf \n",
      "WARNING: jaxopt.ZoomLineSearch: Length of searched interval has been reduced below threshold.\n",
      "WARNING: jaxopt.ZoomLineSearch: NaN or Inf values encountered in function values.\n",
      "INFO: jaxopt.ZoomLineSearch: Iter: 27 Minimum Decrease & Curvature Errors (stop. crit.): inf Stepsize:1.4901161193847656e-08  Decrease Error:inf  Curvature Error:inf \n",
      "WARNING: jaxopt.ZoomLineSearch: Length of searched interval has been reduced below threshold.\n",
      "WARNING: jaxopt.ZoomLineSearch: NaN or Inf values encountered in function values.\n",
      "INFO: jaxopt.ZoomLineSearch: Iter: 28 Minimum Decrease & Curvature Errors (stop. crit.): inf Stepsize:7.450580596923828e-09  Decrease Error:inf  Curvature Error:inf \n",
      "WARNING: jaxopt.ZoomLineSearch: Length of searched interval has been reduced below threshold.\n",
      "WARNING: jaxopt.ZoomLineSearch: NaN or Inf values encountered in function values.\n",
      "INFO: jaxopt.ZoomLineSearch: Iter: 29 Minimum Decrease & Curvature Errors (stop. crit.): inf Stepsize:3.725290298461914e-09  Decrease Error:inf  Curvature Error:inf \n",
      "WARNING: jaxopt.ZoomLineSearch: Length of searched interval has been reduced below threshold.\n",
      "WARNING: jaxopt.ZoomLineSearch: NaN or Inf values encountered in function values.\n",
      "WARNING: jaxopt.ZoomLineSearch: Linesearch failed, no stepsize satisfying sufficient decrease found.\n",
      "WARNING: jaxopt.ZoomLineSearch: The linesearch failed because the provided direction is not a descent direction. The slope (=nan) at stepsize=0 should be negative\n",
      "WARNING: jaxopt.ZoomLineSearch: Cannot even make a step without getting Inf or Nan. The linesearch won't make a step and the optimizer is stuck.\n",
      "INFO: jaxopt.ZoomLineSearch: Iter: 30 Minimum Decrease & Curvature Errors (stop. crit.): inf Stepsize:1.862645149230957e-09  Decrease Error:inf  Curvature Error:inf \n",
      "INFO: jaxopt.ZoomLineSearch: Iter: 30 Minimum Decrease & Curvature Errors (stop. crit.): inf Stepsize:0.0  Decrease Error:inf  Curvature Error:inf \n",
      "[[nan nan nan nan]\n",
      " [nan nan nan nan]\n",
      " [nan nan nan nan]\n",
      " [nan nan nan nan]]\n",
      "[[nan nan nan nan]\n",
      " [nan nan nan nan]\n",
      " [nan nan nan nan]\n",
      " [nan nan nan nan]]\n",
      "[[nan nan nan nan]\n",
      " [nan nan nan nan]\n",
      " [nan nan nan nan]\n",
      " [nan nan nan nan]]\n",
      "[[nan nan nan nan]\n",
      " [nan nan nan nan]\n",
      " [nan nan nan nan]\n",
      " [nan nan nan nan]]\n",
      "[[0. 0. 0. 0.]\n",
      " [0. 0. 0. 0.]\n",
      " [0. 0. 0. 0.]\n",
      " [0. 0. 0. 0.]]\n",
      "[[0. 0. 0. 0.]\n",
      " [0. 0. 0. 0.]\n",
      " [0. 0. 0. 0.]\n",
      " [0. 0. 0. 0.]]\n",
      "[[0. 0. 0. 0.]\n",
      " [0. 0. 0. 0.]\n",
      " [0. 0. 0. 0.]\n",
      " [0. 0. 0. 0.]]\n"
     ]
    },
    {
     "ename": "ValueError",
     "evalue": "Unknown solver trust-const",
     "output_type": "error",
     "traceback": [
      "\u001b[1;31m---------------------------------------------------------------------------\u001b[0m",
      "\u001b[1;31mValueError\u001b[0m                                Traceback (most recent call last)",
      "Cell \u001b[1;32mIn[17], line 34\u001b[0m\n\u001b[0;32m     31\u001b[0m \u001b[38;5;28;01mfor\u001b[39;00m optimizer \u001b[38;5;129;01min\u001b[39;00m lst_optimizers:\n\u001b[0;32m     32\u001b[0m     \u001b[38;5;66;03m### looping over the epsilon:\u001b[39;00m\n\u001b[0;32m     33\u001b[0m     \u001b[38;5;28;01mfor\u001b[39;00m epsilon \u001b[38;5;129;01min\u001b[39;00m epsilon_lst:\n\u001b[1;32m---> 34\u001b[0m         res \u001b[38;5;241m=\u001b[39m \u001b[43mmaximize_lagrange\u001b[49m\u001b[43m(\u001b[49m\u001b[43moptimizer\u001b[49m\u001b[38;5;241;43m=\u001b[39;49m\u001b[43moptimizer\u001b[49m\u001b[43m,\u001b[49m\u001b[43m \u001b[49m\u001b[43mmarginal\u001b[49m\u001b[38;5;241;43m=\u001b[39;49m\u001b[43mmarginal\u001b[49m\u001b[43m,\u001b[49m\u001b[43m \u001b[49m\u001b[43mcost\u001b[49m\u001b[38;5;241;43m=\u001b[39;49m\u001b[43mcost\u001b[49m\u001b[43m,\u001b[49m\u001b[43m \u001b[49m\u001b[43mepsilon\u001b[49m\u001b[38;5;241;43m=\u001b[39;49m\u001b[43mepsilon\u001b[49m\u001b[43m)\u001b[49m\n\u001b[0;32m     35\u001b[0m         \u001b[38;5;28mprint\u001b[39m(res)\n\u001b[0;32m     36\u001b[0m \u001b[38;5;250m        \u001b[39m\u001b[38;5;124;03m\"\"\"\u001b[39;00m\n\u001b[0;32m     37\u001b[0m \u001b[38;5;124;03m        reconstruct_mrgnls = res['approx_mrgnls'] \u001b[39;00m\n\u001b[0;32m     38\u001b[0m \n\u001b[1;32m   (...)\u001b[0m\n\u001b[0;32m     45\u001b[0m \u001b[38;5;124;03m                                                                        marginal)))\u001b[39;00m\n\u001b[0;32m     46\u001b[0m \u001b[38;5;124;03m        \"\"\"\u001b[39;00m\n",
      "Cell \u001b[1;32mIn[14], line 17\u001b[0m, in \u001b[0;36mmaximize_lagrange\u001b[1;34m(optimizer, marginal, cost, epsilon)\u001b[0m\n\u001b[0;32m     15\u001b[0m \u001b[38;5;28;01melse\u001b[39;00m:\n\u001b[0;32m     16\u001b[0m     solver \u001b[38;5;241m=\u001b[39m jaxopt\u001b[38;5;241m.\u001b[39mScipyMinimize(fun\u001b[38;5;241m=\u001b[39mobjective_func, method\u001b[38;5;241m=\u001b[39moptimizer, maxiter\u001b[38;5;241m=\u001b[39mMAXITER)\n\u001b[1;32m---> 17\u001b[0m res \u001b[38;5;241m=\u001b[39m \u001b[43msolver\u001b[49m\u001b[38;5;241;43m.\u001b[39;49m\u001b[43mrun\u001b[49m\u001b[43m(\u001b[49m\u001b[43minit_params\u001b[49m\u001b[38;5;241;43m=\u001b[39;49m\u001b[43mUV0\u001b[49m\u001b[43m,\u001b[49m\u001b[43m \u001b[49m\u001b[43mcost\u001b[49m\u001b[38;5;241;43m=\u001b[39;49m\u001b[43mcost\u001b[49m\u001b[43m,\u001b[49m\u001b[43m \u001b[49m\u001b[43mmarginals\u001b[49m\u001b[38;5;241;43m=\u001b[39;49m\u001b[43mmarginal\u001b[49m\u001b[43m,\u001b[49m\u001b[43m \u001b[49m\u001b[43meps\u001b[49m\u001b[38;5;241;43m=\u001b[39;49m\u001b[43mepsilon\u001b[49m\u001b[43m)\u001b[49m\n\u001b[0;32m     19\u001b[0m \u001b[38;5;66;03m# unpack results\u001b[39;00m\n\u001b[0;32m     20\u001b[0m params, state \u001b[38;5;241m=\u001b[39m res\n",
      "File \u001b[1;32mc:\\Users\\Dohyoung\\.conda\\envs\\FUSRP\\Lib\\site-packages\\jaxopt\\_src\\implicit_diff.py:251\u001b[0m, in \u001b[0;36m_custom_root.<locals>.wrapped_solver_fun\u001b[1;34m(*args, **kwargs)\u001b[0m\n\u001b[0;32m    249\u001b[0m args, kwargs \u001b[38;5;241m=\u001b[39m _signature_bind(solver_fun_signature, \u001b[38;5;241m*\u001b[39margs, \u001b[38;5;241m*\u001b[39m\u001b[38;5;241m*\u001b[39mkwargs)\n\u001b[0;32m    250\u001b[0m keys, vals \u001b[38;5;241m=\u001b[39m \u001b[38;5;28mlist\u001b[39m(kwargs\u001b[38;5;241m.\u001b[39mkeys()), \u001b[38;5;28mlist\u001b[39m(kwargs\u001b[38;5;241m.\u001b[39mvalues())\n\u001b[1;32m--> 251\u001b[0m \u001b[38;5;28;01mreturn\u001b[39;00m \u001b[43mmake_custom_vjp_solver_fun\u001b[49m\u001b[43m(\u001b[49m\u001b[43msolver_fun\u001b[49m\u001b[43m,\u001b[49m\u001b[43m \u001b[49m\u001b[43mkeys\u001b[49m\u001b[43m)\u001b[49m\u001b[43m(\u001b[49m\u001b[38;5;241;43m*\u001b[39;49m\u001b[43margs\u001b[49m\u001b[43m,\u001b[49m\u001b[43m \u001b[49m\u001b[38;5;241;43m*\u001b[39;49m\u001b[43mvals\u001b[49m\u001b[43m)\u001b[49m\n",
      "    \u001b[1;31m[... skipping hidden 5 frame]\u001b[0m\n",
      "File \u001b[1;32mc:\\Users\\Dohyoung\\.conda\\envs\\FUSRP\\Lib\\site-packages\\jaxopt\\_src\\implicit_diff.py:207\u001b[0m, in \u001b[0;36m_custom_root.<locals>.make_custom_vjp_solver_fun.<locals>.solver_fun_flat\u001b[1;34m(*flat_args)\u001b[0m\n\u001b[0;32m    204\u001b[0m \u001b[38;5;129m@jax\u001b[39m\u001b[38;5;241m.\u001b[39mcustom_vjp\n\u001b[0;32m    205\u001b[0m \u001b[38;5;28;01mdef\u001b[39;00m \u001b[38;5;21msolver_fun_flat\u001b[39m(\u001b[38;5;241m*\u001b[39mflat_args):\n\u001b[0;32m    206\u001b[0m   args, kwargs \u001b[38;5;241m=\u001b[39m _extract_kwargs(kwarg_keys, flat_args)\n\u001b[1;32m--> 207\u001b[0m   \u001b[38;5;28;01mreturn\u001b[39;00m \u001b[43msolver_fun\u001b[49m\u001b[43m(\u001b[49m\u001b[38;5;241;43m*\u001b[39;49m\u001b[43margs\u001b[49m\u001b[43m,\u001b[49m\u001b[43m \u001b[49m\u001b[38;5;241;43m*\u001b[39;49m\u001b[38;5;241;43m*\u001b[39;49m\u001b[43mkwargs\u001b[49m\u001b[43m)\u001b[49m\n",
      "File \u001b[1;32mc:\\Users\\Dohyoung\\.conda\\envs\\FUSRP\\Lib\\site-packages\\jaxopt\\_src\\scipy_wrappers.py:392\u001b[0m, in \u001b[0;36mScipyMinimize.run\u001b[1;34m(self, init_params, *args, **kwargs)\u001b[0m\n\u001b[0;32m    379\u001b[0m \u001b[38;5;28;01mdef\u001b[39;00m \u001b[38;5;21mrun\u001b[39m(\u001b[38;5;28mself\u001b[39m,\n\u001b[0;32m    380\u001b[0m         init_params: Any,\n\u001b[0;32m    381\u001b[0m         \u001b[38;5;241m*\u001b[39margs,\n\u001b[0;32m    382\u001b[0m         \u001b[38;5;241m*\u001b[39m\u001b[38;5;241m*\u001b[39mkwargs) \u001b[38;5;241m-\u001b[39m\u001b[38;5;241m>\u001b[39m base\u001b[38;5;241m.\u001b[39mOptStep:\n\u001b[0;32m    383\u001b[0m \u001b[38;5;250m  \u001b[39m\u001b[38;5;124;03m\"\"\"Runs the solver.\u001b[39;00m\n\u001b[0;32m    384\u001b[0m \n\u001b[0;32m    385\u001b[0m \u001b[38;5;124;03m  Args:\u001b[39;00m\n\u001b[1;32m   (...)\u001b[0m\n\u001b[0;32m    390\u001b[0m \u001b[38;5;124;03m    (params, info).\u001b[39;00m\n\u001b[0;32m    391\u001b[0m \u001b[38;5;124;03m  \"\"\"\u001b[39;00m\n\u001b[1;32m--> 392\u001b[0m   \u001b[38;5;28;01mreturn\u001b[39;00m \u001b[38;5;28;43mself\u001b[39;49m\u001b[38;5;241;43m.\u001b[39;49m\u001b[43m_run\u001b[49m\u001b[43m(\u001b[49m\u001b[43minit_params\u001b[49m\u001b[43m,\u001b[49m\u001b[43m \u001b[49m\u001b[38;5;28;43;01mNone\u001b[39;49;00m\u001b[43m,\u001b[49m\u001b[43m \u001b[49m\u001b[38;5;241;43m*\u001b[39;49m\u001b[43margs\u001b[49m\u001b[43m,\u001b[49m\u001b[43m \u001b[49m\u001b[38;5;241;43m*\u001b[39;49m\u001b[38;5;241;43m*\u001b[39;49m\u001b[43mkwargs\u001b[49m\u001b[43m)\u001b[49m\n",
      "File \u001b[1;32mc:\\Users\\Dohyoung\\.conda\\envs\\FUSRP\\Lib\\site-packages\\jaxopt\\_src\\scipy_wrappers.py:343\u001b[0m, in \u001b[0;36mScipyMinimize._run\u001b[1;34m(self, init_params, bounds, *args, **kwargs)\u001b[0m\n\u001b[0;32m    339\u001b[0m \u001b[38;5;28;01mif\u001b[39;00m bounds \u001b[38;5;129;01mis\u001b[39;00m \u001b[38;5;129;01mnot\u001b[39;00m \u001b[38;5;28;01mNone\u001b[39;00m:\n\u001b[0;32m    340\u001b[0m   bounds \u001b[38;5;241m=\u001b[39m osp\u001b[38;5;241m.\u001b[39moptimize\u001b[38;5;241m.\u001b[39mBounds(lb\u001b[38;5;241m=\u001b[39mjnp_to_onp(bounds[\u001b[38;5;241m0\u001b[39m], \u001b[38;5;28mself\u001b[39m\u001b[38;5;241m.\u001b[39mdtype),\n\u001b[0;32m    341\u001b[0m                                ub\u001b[38;5;241m=\u001b[39mjnp_to_onp(bounds[\u001b[38;5;241m1\u001b[39m], \u001b[38;5;28mself\u001b[39m\u001b[38;5;241m.\u001b[39mdtype))\n\u001b[1;32m--> 343\u001b[0m res \u001b[38;5;241m=\u001b[39m \u001b[43mosp\u001b[49m\u001b[38;5;241;43m.\u001b[39;49m\u001b[43moptimize\u001b[49m\u001b[38;5;241;43m.\u001b[39;49m\u001b[43mminimize\u001b[49m\u001b[43m(\u001b[49m\u001b[43mscipy_fun\u001b[49m\u001b[43m,\u001b[49m\u001b[43m \u001b[49m\u001b[43mjnp_to_onp\u001b[49m\u001b[43m(\u001b[49m\u001b[43minit_params\u001b[49m\u001b[43m,\u001b[49m\u001b[43m \u001b[49m\u001b[38;5;28;43mself\u001b[39;49m\u001b[38;5;241;43m.\u001b[39;49m\u001b[43mdtype\u001b[49m\u001b[43m)\u001b[49m\u001b[43m,\u001b[49m\n\u001b[0;32m    344\u001b[0m \u001b[43m                            \u001b[49m\u001b[43mjac\u001b[49m\u001b[38;5;241;43m=\u001b[39;49m\u001b[38;5;28;43;01mTrue\u001b[39;49;00m\u001b[43m,\u001b[49m\n\u001b[0;32m    345\u001b[0m \u001b[43m                            \u001b[49m\u001b[43mtol\u001b[49m\u001b[38;5;241;43m=\u001b[39;49m\u001b[38;5;28;43mself\u001b[39;49m\u001b[38;5;241;43m.\u001b[39;49m\u001b[43mtol\u001b[49m\u001b[43m,\u001b[49m\n\u001b[0;32m    346\u001b[0m \u001b[43m                            \u001b[49m\u001b[43mbounds\u001b[49m\u001b[38;5;241;43m=\u001b[39;49m\u001b[43mbounds\u001b[49m\u001b[43m,\u001b[49m\n\u001b[0;32m    347\u001b[0m \u001b[43m                            \u001b[49m\u001b[43mmethod\u001b[49m\u001b[38;5;241;43m=\u001b[39;49m\u001b[38;5;28;43mself\u001b[39;49m\u001b[38;5;241;43m.\u001b[39;49m\u001b[43mmethod\u001b[49m\u001b[43m,\u001b[49m\n\u001b[0;32m    348\u001b[0m \u001b[43m                            \u001b[49m\u001b[43mcallback\u001b[49m\u001b[38;5;241;43m=\u001b[39;49m\u001b[43mscipy_callback\u001b[49m\u001b[43m,\u001b[49m\n\u001b[0;32m    349\u001b[0m \u001b[43m                            \u001b[49m\u001b[43moptions\u001b[49m\u001b[38;5;241;43m=\u001b[39;49m\u001b[38;5;28;43mself\u001b[39;49m\u001b[38;5;241;43m.\u001b[39;49m\u001b[43moptions\u001b[49m\u001b[43m)\u001b[49m\n\u001b[0;32m    351\u001b[0m params \u001b[38;5;241m=\u001b[39m tree_util\u001b[38;5;241m.\u001b[39mtree_map(jnp\u001b[38;5;241m.\u001b[39masarray, onp_to_jnp(res\u001b[38;5;241m.\u001b[39mx))\n\u001b[0;32m    353\u001b[0m \u001b[38;5;28;01mif\u001b[39;00m \u001b[38;5;28mhasattr\u001b[39m(res, \u001b[38;5;124m'\u001b[39m\u001b[38;5;124mhess_inv\u001b[39m\u001b[38;5;124m'\u001b[39m):\n",
      "File \u001b[1;32mc:\\Users\\Dohyoung\\.conda\\envs\\FUSRP\\Lib\\site-packages\\scipy\\optimize\\_minimize.py:741\u001b[0m, in \u001b[0;36mminimize\u001b[1;34m(fun, x0, args, method, jac, hess, hessp, bounds, constraints, tol, callback, options)\u001b[0m\n\u001b[0;32m    738\u001b[0m     res \u001b[38;5;241m=\u001b[39m _minimize_trustregion_exact(fun, x0, args, jac, hess,\n\u001b[0;32m    739\u001b[0m                                       callback\u001b[38;5;241m=\u001b[39mcallback, \u001b[38;5;241m*\u001b[39m\u001b[38;5;241m*\u001b[39moptions)\n\u001b[0;32m    740\u001b[0m \u001b[38;5;28;01melse\u001b[39;00m:\n\u001b[1;32m--> 741\u001b[0m     \u001b[38;5;28;01mraise\u001b[39;00m \u001b[38;5;167;01mValueError\u001b[39;00m(\u001b[38;5;124m'\u001b[39m\u001b[38;5;124mUnknown solver \u001b[39m\u001b[38;5;132;01m%s\u001b[39;00m\u001b[38;5;124m'\u001b[39m \u001b[38;5;241m%\u001b[39m method)\n\u001b[0;32m    743\u001b[0m \u001b[38;5;28;01mif\u001b[39;00m remove_vars:\n\u001b[0;32m    744\u001b[0m     res\u001b[38;5;241m.\u001b[39mx \u001b[38;5;241m=\u001b[39m _add_to_array(res\u001b[38;5;241m.\u001b[39mx, i_fixed, x_fixed)\n",
      "\u001b[1;31mValueError\u001b[0m: Unknown solver trust-const"
     ]
    }
   ],
   "source": [
    "lst_optimizers = ['gradient-descent', 'nonlinear-CG', 'LBFGS', 'L-BFGS-B', 'trust-const', 'BFGS', 'COBYLA', 'SLSQP', 'Newton-CG']\n",
    "\n",
    "epsilon_lst = [100, 10, 5]\n",
    "\n",
    "marginals_lst_1 = [jnp.array([[0.5, 0  ],\n",
    "                              [0,   0.5]]),\n",
    "                    jnp.array([[0.5, 0  ],\n",
    "                              [0,   0.5]])]\n",
    "\n",
    "marginals_lst_2 = [jnp.array([[0.4, 0.1 ],\n",
    "                              [0.1,   0.6]]),\n",
    "                    jnp.array([[0.5, 0.1 ],\n",
    "                              [0.1,   0.5]])]\n",
    "\n",
    "marginals_lst_3 = [np.random.rand(2,2),\n",
    "                   np.random.rand(2,2)]\n",
    "\n",
    "table = {'success': [],\n",
    "         'marg_error': [],\n",
    "         'method': [],\n",
    "         'penalty': [],\n",
    "         'set': [],\n",
    "         'coupling_error':[]}\n",
    "\n",
    "errors = []\n",
    "### looping over the differrent optimizers\n",
    "for set_num, marginal in enumerate([marginals_lst_2,\n",
    "                                    \n",
    "                                    ]):\n",
    "    cost = jnp.eye(marginal[0].shape[0]**len(marginal))\n",
    "    for optimizer in lst_optimizers:\n",
    "        ### looping over the epsilon:\n",
    "        for epsilon in epsilon_lst:\n",
    "            res = maximize_lagrange(optimizer=optimizer, marginal=marginal, cost=cost, epsilon=epsilon)\n",
    "            print(res)\n",
    "            \"\"\"\n",
    "            reconstruct_mrgnls = res['approx_mrgnls'] \n",
    "\n",
    "            table['success'].append(res['opt_result'].success)\n",
    "            table['marg_error'].append(np.linalg.norm(reconstruct_mrgnls-jnp.array(marginal)))\n",
    "            table['penalty'].append(epsilon)\n",
    "            table['method'].append(optimizer)\n",
    "            table['set'].append(set_num)\n",
    "            table['coupling_error'].append(np.linalg.norm(res['coupling']-functools.reduce(np.kron, \n",
    "                                                                            marginal)))\n",
    "            \"\"\"\n",
    "# pd.DataFrame(table)"
   ]
  },
  {
   "cell_type": "code",
   "execution_count": 16,
   "id": "b65eb1d2",
   "metadata": {},
   "outputs": [
    {
     "ename": "NameError",
     "evalue": "name 'pd' is not defined",
     "output_type": "error",
     "traceback": [
      "\u001b[1;31m---------------------------------------------------------------------------\u001b[0m",
      "\u001b[1;31mNameError\u001b[0m                                 Traceback (most recent call last)",
      "Cell \u001b[1;32mIn[16], line 1\u001b[0m\n\u001b[1;32m----> 1\u001b[0m output \u001b[38;5;241m=\u001b[39m \u001b[43mpd\u001b[49m\u001b[38;5;241m.\u001b[39mDataFrame(table)\n\u001b[0;32m      2\u001b[0m output[output[\u001b[38;5;124m'\u001b[39m\u001b[38;5;124mset\u001b[39m\u001b[38;5;124m'\u001b[39m] \u001b[38;5;241m==\u001b[39m \u001b[38;5;241m4\u001b[39m]\n",
      "\u001b[1;31mNameError\u001b[0m: name 'pd' is not defined"
     ]
    }
   ],
   "source": [
    "output = pd.DataFrame(table)\n",
    "output[output['set'] == 4]"
   ]
  },
  {
   "cell_type": "code",
   "execution_count": null,
   "id": "db9cd73e",
   "metadata": {},
   "outputs": [
    {
     "data": {
      "text/plain": [
       "True"
      ]
     },
     "execution_count": 34,
     "metadata": {},
     "output_type": "execute_result"
    }
   ],
   "source": [
    "coupling = qmarg.maximize_lagrange(marginals_lst_2, np.eye(4), 0.01)['coupling']\n",
    "np.allclose(coupling, np.kron(*marginals_lst_2), rtol=1e-3)"
   ]
  },
  {
   "cell_type": "code",
   "execution_count": null,
   "id": "d48792c9",
   "metadata": {},
   "outputs": [
    {
     "data": {
      "image/png": "[encoded data removed]",
      "text/plain": [
       "<Figure size 432x360 with 2 Axes>"
      ]
     },
     "metadata": {
      "needs_background": "light"
     },
     "output_type": "display_data"
    }
   ],
   "source": [
    "import qutip as qt\n",
    "from qutip.wigner import wigner\n",
    "from qutip.matplotlib_utilities import wigner_cmap\n",
    "import matplotlib\n",
    "import matplotlib.pyplot as plt\n",
    "\n",
    "def wigner_vis(coupling_or_marginal, dims, xvec=np.linspace(-1,1,100)):\n",
    "    coupling_or_marginal /= np.trace(coupling_or_marginal)\n",
    "    p_operator = qt.Qobj(list(coupling_or_marginal), dims=dims)\n",
    "    W = wigner(p_operator, xvec, xvec)\n",
    "    fig, ax = plt.subplots(figsize=(6,5))\n",
    "    wmap = wigner_cmap(W)\n",
    "    plot = ax.contourf(xvec, xvec, W, 100, cmap=wmap)\n",
    "    fig.colorbar(plot)\n",
    "    \n",
    "d = np.array([\n",
    "    [1, 0, 0, 0],\n",
    "    [0, 1, 0, 0],\n",
    "    [0, 0, 1, 0],\n",
    "    [0, 0, 0, 1]\n",
    "], dtype=np.float32)\n",
    "\n",
    "\n",
    "# dims should be [first_system.shape, second_system.shape, ...]\n",
    "# for instance if coupling is 4x4, dims=[[2,2], [2,2]]\n",
    "wigner_vis(d, [[2,2], [2,2]])"
   ]
  },
  {
   "cell_type": "code",
   "execution_count": null,
   "id": "d096b917",
   "metadata": {},
   "outputs": [
    {
     "data": {
      "image/png": "[encoded data removed]",
      "text/plain": [
       "<Figure size 432x288 with 1 Axes>"
      ]
     },
     "metadata": {
      "needs_background": "light"
     },
     "output_type": "display_data"
    }
   ],
   "source": [
    "plt.hist(output['coupling_error'][output['success'] == True].values, bins=100)\n",
    "plt.hist(output['marg_error'][output['success'] == True].values, bins=100, alpha=0.5)\n",
    "plt.show();"
   ]
  },
  {
   "cell_type": "code",
   "execution_count": null,
   "id": "a5135386",
   "metadata": {},
   "outputs": [],
   "source": []
  }
 ],
 "metadata": {
  "kernelspec": {
   "display_name": "Python 3 (ipykernel)",
   "language": "python",
   "name": "python3"
  },
  "language_info": {
   "codemirror_mode": {
    "name": "ipython",
    "version": 3
   },
   "file_extension": ".py",
   "mimetype": "text/x-python",
   "name": "python",
   "nbconvert_exporter": "python",
   "pygments_lexer": "ipython3",
   "version": "3.12.5"
  }
 },
 "nbformat": 4,
 "nbformat_minor": 5
}
